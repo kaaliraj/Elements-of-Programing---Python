{
 "cells": [
  {
   "cell_type": "code",
   "execution_count": null,
   "id": "817049f2",
   "metadata": {},
   "outputs": [],
   "source": [
    "#The parity of a binary word is 1 if the number of 1s in the word is odd "
   ]
  },
  {
   "cell_type": "code",
   "execution_count": 15,
   "id": "7e75afa2",
   "metadata": {},
   "outputs": [],
   "source": [
    "def parity(x):\n",
    "     \n",
    "    \"\"\"Method that takes an positive integer input and checks for parity\n",
    "       x : a positive integer input\n",
    "       result : a 1 if number of 1s in the word is odd else 0\n",
    "    \"\"\"\n",
    "    # initilize a variable named num_bits to count\n",
    "    num_bits = 0\n",
    "    result = 0\n",
    "    while x:\n",
    "        print(\"x: %d \"%(x))\n",
    "        \n",
    "        result ^= x&1\n",
    "        x >>= 1\n",
    "        print(\"result: %d \"%(result))\n",
    "    return result"
   ]
  },
  {
   "cell_type": "code",
   "execution_count": 16,
   "id": "cd54c3e8",
   "metadata": {},
   "outputs": [
    {
     "name": "stdout",
     "output_type": "stream",
     "text": [
      "x: 35 \n",
      "result: 1 \n",
      "x: 17 \n",
      "result: 0 \n",
      "x: 8 \n",
      "result: 0 \n",
      "x: 4 \n",
      "result: 0 \n",
      "x: 2 \n",
      "result: 0 \n",
      "x: 1 \n",
      "result: 1 \n"
     ]
    },
    {
     "data": {
      "text/plain": [
       "1"
      ]
     },
     "execution_count": 16,
     "metadata": {},
     "output_type": "execute_result"
    }
   ],
   "source": [
    "parity(35)"
   ]
  },
  {
   "cell_type": "code",
   "execution_count": null,
   "id": "6cfb5c7e",
   "metadata": {},
   "outputs": [],
   "source": []
  }
 ],
 "metadata": {
  "kernelspec": {
   "display_name": "Python 3 (ipykernel)",
   "language": "python",
   "name": "python3"
  },
  "language_info": {
   "codemirror_mode": {
    "name": "ipython",
    "version": 3
   },
   "file_extension": ".py",
   "mimetype": "text/x-python",
   "name": "python",
   "nbconvert_exporter": "python",
   "pygments_lexer": "ipython3",
   "version": "3.9.13"
  }
 },
 "nbformat": 4,
 "nbformat_minor": 5
}
