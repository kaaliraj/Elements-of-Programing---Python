{
 "cells": [
  {
   "cell_type": "code",
   "execution_count": 1,
   "id": "f29f83c7",
   "metadata": {},
   "outputs": [],
   "source": [
    "# write a program that takes an array denoting the daily stock price \n",
    "# and returns the maximum profit that could be made by buying and \n",
    "# then selling one share of that stock . \n",
    "# there is no need to buy if no profit is possible \n",
    "\n",
    "\n",
    "# Hint:\n",
    "# Identifying the minimum and maximum is not enough since \n",
    "# the minimum may appear after the maximum height \n",
    "# focus on valid differences"
   ]
  },
  {
   "cell_type": "code",
   "execution_count": 9,
   "id": "18f4a6f1",
   "metadata": {},
   "outputs": [],
   "source": [
    "def buy_and_sell_stock_once (prices):\n",
    "    min_price_so_far,max_profit = float('inf'),0.0\n",
    "    for price in prices:\n",
    "        max_profit_sell_today = price - min_price_so_far\n",
    "        max_profit = max(max_profit , max_profit_sell_today)\n",
    "        min_price_so_far = min(min_price_so_far , price)\n",
    "    return max_profit \n",
    "    "
   ]
  },
  {
   "cell_type": "code",
   "execution_count": 10,
   "id": "412c52eb",
   "metadata": {},
   "outputs": [
    {
     "data": {
      "text/plain": [
       "30"
      ]
     },
     "execution_count": 10,
     "metadata": {},
     "output_type": "execute_result"
    }
   ],
   "source": [
    "prices = [310,315,275,295,260,270,290,230,255,250]\n",
    "buy_and_sell_stock_once (prices)\n"
   ]
  },
  {
   "cell_type": "code",
   "execution_count": null,
   "id": "98c11336",
   "metadata": {},
   "outputs": [],
   "source": []
  }
 ],
 "metadata": {
  "kernelspec": {
   "display_name": "Python 3 (ipykernel)",
   "language": "python",
   "name": "python3"
  },
  "language_info": {
   "codemirror_mode": {
    "name": "ipython",
    "version": 3
   },
   "file_extension": ".py",
   "mimetype": "text/x-python",
   "name": "python",
   "nbconvert_exporter": "python",
   "pygments_lexer": "ipython3",
   "version": "3.9.13"
  }
 },
 "nbformat": 4,
 "nbformat_minor": 5
}
