{
 "cells": [
  {
   "cell_type": "code",
   "execution_count": 29,
   "id": "77168080",
   "metadata": {},
   "outputs": [],
   "source": [
    "# write a program to count the number of bits that are set to 1 in a positive integer \n",
    "\n",
    "def count_bits(x):\n",
    "    \n",
    "    \"\"\"Method that takes an positive integer input and returns the number of bits that are set to 1 \n",
    "       x : a positive integer input\n",
    "       count_bits : a positive integer count\n",
    "    \"\"\"\n",
    "\n",
    "    # initilize a variable named num_bits to count\n",
    "    num_bits = 0\n",
    "    # run a while loop over the x it will execute until x is 0\n",
    "    while x:\n",
    "        # summing the output of bitwise 'and' operator\n",
    "        num_bits += x & 1 \n",
    "        print(\"num_bits : %d \" %(num_bits))\n",
    "        # right logical shift operator on x\n",
    "        x >>= 1\n",
    "        print(\"input x : %d\" % (x))\n",
    "        #return the output \n",
    "    return num_bits  "
   ]
  },
  {
   "cell_type": "code",
   "execution_count": 32,
   "id": "6eb6bab0",
   "metadata": {},
   "outputs": [
    {
     "name": "stdout",
     "output_type": "stream",
     "text": [
      "num_bits : 0 \n",
      "input x : 6\n",
      "num_bits : 0 \n",
      "input x : 3\n",
      "num_bits : 1 \n",
      "input x : 1\n",
      "num_bits : 2 \n",
      "input x : 0\n"
     ]
    },
    {
     "data": {
      "text/plain": [
       "2"
      ]
     },
     "execution_count": 32,
     "metadata": {},
     "output_type": "execute_result"
    }
   ],
   "source": [
    "count_bits(12)"
   ]
  },
  {
   "cell_type": "markdown",
   "id": "d4c1ce3e",
   "metadata": {},
   "source": [
    "# Operators and Key Methods"
   ]
  },
  {
   "cell_type": "code",
   "execution_count": 1,
   "id": "5884efde",
   "metadata": {},
   "outputs": [
    {
     "data": {
      "text/plain": [
       "-4"
      ]
     },
     "execution_count": 1,
     "metadata": {},
     "output_type": "execute_result"
    }
   ],
   "source": [
    "min(10,-4)"
   ]
  },
  {
   "cell_type": "code",
   "execution_count": 2,
   "id": "0f30f7e5",
   "metadata": {},
   "outputs": [
    {
     "data": {
      "text/plain": [
       "3.18"
      ]
     },
     "execution_count": 2,
     "metadata": {},
     "output_type": "execute_result"
    }
   ],
   "source": [
    "max (3.14,3.18)"
   ]
  },
  {
   "cell_type": "code",
   "execution_count": 3,
   "id": "e153c2a0",
   "metadata": {},
   "outputs": [
    {
     "data": {
      "text/plain": [
       "22.883559193263366"
      ]
     },
     "execution_count": 3,
     "metadata": {},
     "output_type": "execute_result"
    }
   ],
   "source": [
    "pow(2.71,3.14)"
   ]
  },
  {
   "cell_type": "code",
   "execution_count": 4,
   "id": "f8007785",
   "metadata": {},
   "outputs": [
    {
     "data": {
      "text/plain": [
       "22.883559193263366"
      ]
     },
     "execution_count": 4,
     "metadata": {},
     "output_type": "execute_result"
    }
   ],
   "source": [
    "2.71**3.14"
   ]
  },
  {
   "cell_type": "code",
   "execution_count": 6,
   "id": "ecc77d5e",
   "metadata": {},
   "outputs": [],
   "source": [
    "import math"
   ]
  },
  {
   "cell_type": "code",
   "execution_count": 7,
   "id": "4890d34e",
   "metadata": {},
   "outputs": [
    {
     "data": {
      "text/plain": [
       "15.0"
      ]
     },
     "execution_count": 7,
     "metadata": {},
     "output_type": "execute_result"
    }
   ],
   "source": [
    "math.sqrt(225)"
   ]
  },
  {
   "cell_type": "code",
   "execution_count": 8,
   "id": "f872898e",
   "metadata": {},
   "outputs": [
    {
     "data": {
      "text/plain": [
       "'42'"
      ]
     },
     "execution_count": 8,
     "metadata": {},
     "output_type": "execute_result"
    }
   ],
   "source": [
    "str(42)"
   ]
  },
  {
   "cell_type": "code",
   "execution_count": 9,
   "id": "fa250285",
   "metadata": {},
   "outputs": [
    {
     "data": {
      "text/plain": [
       "42"
      ]
     },
     "execution_count": 9,
     "metadata": {},
     "output_type": "execute_result"
    }
   ],
   "source": [
    "int('42')"
   ]
  },
  {
   "cell_type": "code",
   "execution_count": 10,
   "id": "f51540d7",
   "metadata": {},
   "outputs": [
    {
     "data": {
      "text/plain": [
       "'3.14'"
      ]
     },
     "execution_count": 10,
     "metadata": {},
     "output_type": "execute_result"
    }
   ],
   "source": [
    "str(3.14)"
   ]
  },
  {
   "cell_type": "code",
   "execution_count": 11,
   "id": "c4a074a8",
   "metadata": {},
   "outputs": [
    {
     "data": {
      "text/plain": [
       "3.14"
      ]
     },
     "execution_count": 11,
     "metadata": {},
     "output_type": "execute_result"
    }
   ],
   "source": [
    "float('3.14')"
   ]
  },
  {
   "cell_type": "code",
   "execution_count": 12,
   "id": "4fab6c37",
   "metadata": {},
   "outputs": [
    {
     "data": {
      "text/plain": [
       "inf"
      ]
     },
     "execution_count": 12,
     "metadata": {},
     "output_type": "execute_result"
    }
   ],
   "source": [
    "float('inf')"
   ]
  },
  {
   "cell_type": "code",
   "execution_count": 14,
   "id": "f786fb36",
   "metadata": {},
   "outputs": [
    {
     "data": {
      "text/plain": [
       "-inf"
      ]
     },
     "execution_count": 14,
     "metadata": {},
     "output_type": "execute_result"
    }
   ],
   "source": [
    "float('-inf')"
   ]
  },
  {
   "cell_type": "code",
   "execution_count": 21,
   "id": "f71e98dd",
   "metadata": {},
   "outputs": [
    {
     "data": {
      "text/plain": [
       "False"
      ]
     },
     "execution_count": 21,
     "metadata": {},
     "output_type": "execute_result"
    }
   ],
   "source": [
    "math.isclose(10.0000,9.999999)"
   ]
  },
  {
   "cell_type": "code",
   "execution_count": 22,
   "id": "26d91453",
   "metadata": {},
   "outputs": [],
   "source": [
    "import random"
   ]
  },
  {
   "cell_type": "code",
   "execution_count": 23,
   "id": "09b19362",
   "metadata": {},
   "outputs": [
    {
     "data": {
      "text/plain": [
       "10"
      ]
     },
     "execution_count": 23,
     "metadata": {},
     "output_type": "execute_result"
    }
   ],
   "source": [
    "random.randrange(28)"
   ]
  },
  {
   "cell_type": "code",
   "execution_count": 25,
   "id": "1a8f4e96",
   "metadata": {},
   "outputs": [
    {
     "data": {
      "text/plain": [
       "11"
      ]
     },
     "execution_count": 25,
     "metadata": {},
     "output_type": "execute_result"
    }
   ],
   "source": [
    "random.randint(8,16)"
   ]
  },
  {
   "cell_type": "code",
   "execution_count": 30,
   "id": "c576c426",
   "metadata": {},
   "outputs": [
    {
     "data": {
      "text/plain": [
       "0.9793307067396945"
      ]
     },
     "execution_count": 30,
     "metadata": {},
     "output_type": "execute_result"
    }
   ],
   "source": [
    "random.random()"
   ]
  },
  {
   "cell_type": "code",
   "execution_count": 31,
   "id": "c98af22b",
   "metadata": {},
   "outputs": [],
   "source": [
    "A = [10,20,30,40]"
   ]
  },
  {
   "cell_type": "code",
   "execution_count": 34,
   "id": "6e48b951",
   "metadata": {},
   "outputs": [],
   "source": [
    "random.shuffle(A)"
   ]
  },
  {
   "cell_type": "code",
   "execution_count": 35,
   "id": "5dadc854",
   "metadata": {},
   "outputs": [
    {
     "data": {
      "text/plain": [
       "[10, 30, 20, 40]"
      ]
     },
     "execution_count": 35,
     "metadata": {},
     "output_type": "execute_result"
    }
   ],
   "source": [
    "A"
   ]
  },
  {
   "cell_type": "code",
   "execution_count": 36,
   "id": "df97251a",
   "metadata": {},
   "outputs": [
    {
     "data": {
      "text/plain": [
       "30"
      ]
     },
     "execution_count": 36,
     "metadata": {},
     "output_type": "execute_result"
    }
   ],
   "source": [
    "random.choice(A)"
   ]
  },
  {
   "cell_type": "markdown",
   "id": "a9baadd3",
   "metadata": {},
   "source": [
    "## bit-wise operators "
   ]
  },
  {
   "cell_type": "code",
   "execution_count": 20,
   "id": "edcc7903",
   "metadata": {},
   "outputs": [
    {
     "data": {
      "text/plain": [
       "0"
      ]
     },
     "execution_count": 20,
     "metadata": {},
     "output_type": "execute_result"
    }
   ],
   "source": [
    "\"\"\"Bitwise AND operator Returns 1 if both the bits are 1 else 0.\n",
    "\n",
    "Example: \n",
    "\n",
    "a = 10 = 1010 (Binary)\n",
    "b = 4 =  0100 (Binary)\n",
    "\n",
    "a & b = 1010\n",
    "         &\n",
    "        0100\n",
    "      = 0000\n",
    "      = 0 (Decimal)\"\"\"\n",
    "        \n",
    "10&4 "
   ]
  },
  {
   "cell_type": "code",
   "execution_count": 24,
   "id": "75d18b6c",
   "metadata": {},
   "outputs": [
    {
     "data": {
      "text/plain": [
       "14"
      ]
     },
     "execution_count": 24,
     "metadata": {},
     "output_type": "execute_result"
    }
   ],
   "source": [
    "\"\"\"Bitwise or operator Returns 1 if either of the bit is 1 else 0.\n",
    "\n",
    "Example:\n",
    "\n",
    "a = 10 = 1010 (Binary)\n",
    "b = 4 =  0100 (Binary)\n",
    "\n",
    "a | b = 1010\n",
    "         |\n",
    "        0100\n",
    "      = 1110\n",
    "      = 14 (Decimal)\"\"\"\n",
    "10|4"
   ]
  },
  {
   "cell_type": "code",
   "execution_count": 29,
   "id": "ce92b3a0",
   "metadata": {},
   "outputs": [
    {
     "data": {
      "text/plain": [
       "5"
      ]
     },
     "execution_count": 29,
     "metadata": {},
     "output_type": "execute_result"
    }
   ],
   "source": [
    "\"\"\"Bitwise right shift: Shifts the bits of the number to the right and fills 0 on voids left( fills 1 in the case of a negative number) as a result. Similar effect as of dividing the number with some power of two.\n",
    "Example: \n",
    "\n",
    "Example 1:\n",
    "a = 10 = 0000 1010 (Binary)\n",
    "a >> 1 = 0000 0101 = 5\n",
    "\n",
    "Example 2:\n",
    "a = -10 = 1111 0110 (Binary)\n",
    "a >> 1 = 1111 1011 = -5 \n",
    "\"\"\"\n",
    "\n",
    "\n",
    "\n",
    "\n",
    "10>>1"
   ]
  },
  {
   "cell_type": "code",
   "execution_count": 34,
   "id": "9b1cf6bb",
   "metadata": {},
   "outputs": [
    {
     "data": {
      "text/plain": [
       "-5"
      ]
     },
     "execution_count": 34,
     "metadata": {},
     "output_type": "execute_result"
    }
   ],
   "source": [
    "-10 >> 1"
   ]
  },
  {
   "cell_type": "code",
   "execution_count": 35,
   "id": "d0f28a4a",
   "metadata": {},
   "outputs": [
    {
     "data": {
      "text/plain": [
       "1024"
      ]
     },
     "execution_count": 35,
     "metadata": {},
     "output_type": "execute_result"
    }
   ],
   "source": [
    "1<<10"
   ]
  },
  {
   "cell_type": "code",
   "execution_count": 39,
   "id": "617ddcb7",
   "metadata": {},
   "outputs": [
    {
     "data": {
      "text/plain": [
       "-11"
      ]
     },
     "execution_count": 39,
     "metadata": {},
     "output_type": "execute_result"
    }
   ],
   "source": [
    "\"\"\"Bitwise not operator: Returns one’s complement of the number.\n",
    "\n",
    "Example:\n",
    "\n",
    "a = 10 = 1010 (Binary) \n",
    "              ~a is basically 1's complement of a \n",
    "~a = 1101      //1111 1101\n",
    "      \n",
    "      1010     // 0000 1010\n",
    "        +1   (2's complement of a )\n",
    " -----------\n",
    "  =  1011     // 1111 1011 \n",
    " -----------\n",
    "  =     -11\"\"\"\n",
    "~10"
   ]
  },
  {
   "cell_type": "code",
   "execution_count": 40,
   "id": "fc57b20e",
   "metadata": {},
   "outputs": [
    {
     "data": {
      "text/plain": [
       "14"
      ]
     },
     "execution_count": 40,
     "metadata": {},
     "output_type": "execute_result"
    }
   ],
   "source": [
    "\"\"\"Bitwise xor operator: Returns 1 if one of the bits is 1 and the other is 0 else returns false.\n",
    "\n",
    "Example:\n",
    "\n",
    "\n",
    "a = 10 = 1010 (Binary)\n",
    "b = 4 =  0100 (Binary)\n",
    "\n",
    "a ^ b = 1010\n",
    "         ^\n",
    "        0100\n",
    "      = 1110\n",
    "      = 14 (Decimal)\n",
    "\n",
    "# Python program to show\n",
    "# bitwise operators\n",
    "\n",
    "\"\"\"\n",
    "\n",
    "10^4"
   ]
  },
  {
   "cell_type": "code",
   "execution_count": null,
   "id": "b18d3b30",
   "metadata": {},
   "outputs": [],
   "source": []
  }
 ],
 "metadata": {
  "kernelspec": {
   "display_name": "Python 3 (ipykernel)",
   "language": "python",
   "name": "python3"
  },
  "language_info": {
   "codemirror_mode": {
    "name": "ipython",
    "version": 3
   },
   "file_extension": ".py",
   "mimetype": "text/x-python",
   "name": "python",
   "nbconvert_exporter": "python",
   "pygments_lexer": "ipython3",
   "version": "3.9.13"
  }
 },
 "nbformat": 4,
 "nbformat_minor": 5
}
