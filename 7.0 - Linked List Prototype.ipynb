{
 "cells": [
  {
   "cell_type": "markdown",
   "id": "bfa5726a",
   "metadata": {},
   "source": [
    "# ref: https://www.tutorialspoint.com/python_data_structure/python_linked_lists.htm\n"
   ]
  },
  {
   "cell_type": "code",
   "execution_count": 6,
   "id": "66142cc8",
   "metadata": {},
   "outputs": [],
   "source": [
    "\n",
    "\n",
    "\n",
    "class listnode :\n",
    "    def __init__(self,data =0,next_node = None ):\n",
    "        self.data = data\n",
    "        self.next = next_node"
   ]
  },
  {
   "cell_type": "code",
   "execution_count": 19,
   "id": "91a328d3",
   "metadata": {},
   "outputs": [],
   "source": [
    "def search_list(L,key):\n",
    "    while L and L.data != key:\n",
    "        L = L.next\n",
    "    # If key was not present in the list , L will have become null .\n",
    "    return L\n",
    "\n"
   ]
  },
  {
   "cell_type": "code",
   "execution_count": 15,
   "id": "fae4b27f",
   "metadata": {},
   "outputs": [],
   "source": [
    "L= listnode(\"Mon\")\n"
   ]
  },
  {
   "cell_type": "code",
   "execution_count": 17,
   "id": "97baf561",
   "metadata": {},
   "outputs": [
    {
     "data": {
      "text/plain": [
       "'Mon'"
      ]
     },
     "execution_count": 17,
     "metadata": {},
     "output_type": "execute_result"
    }
   ],
   "source": [
    "L.data"
   ]
  },
  {
   "cell_type": "code",
   "execution_count": 23,
   "id": "7a9a6eea",
   "metadata": {},
   "outputs": [
    {
     "data": {
      "text/plain": [
       "'Mon'"
      ]
     },
     "execution_count": 23,
     "metadata": {},
     "output_type": "execute_result"
    }
   ],
   "source": [
    "search_list(L,\"Mon\").data"
   ]
  },
  {
   "cell_type": "code",
   "execution_count": 14,
   "id": "e9a1e9a0",
   "metadata": {},
   "outputs": [],
   "source": [
    "#insert new_node after node \n",
    "def insert_after(node , new_node):\n",
    "    new_node.next = node.next\n",
    "    node.next = new_node"
   ]
  },
  {
   "cell_type": "code",
   "execution_count": 24,
   "id": "8d6e2e9b",
   "metadata": {},
   "outputs": [],
   "source": [
    "insert_after(L,listnode(\"Tue\"))"
   ]
  },
  {
   "cell_type": "code",
   "execution_count": 26,
   "id": "f569530b",
   "metadata": {},
   "outputs": [],
   "source": [
    "# Delete the node past this one . Assume node is not a tail \n",
    "def delete_after(node):\n",
    "    node.next = node.next.next"
   ]
  },
  {
   "cell_type": "code",
   "execution_count": null,
   "id": "24e3b2e1",
   "metadata": {},
   "outputs": [],
   "source": []
  }
 ],
 "metadata": {
  "kernelspec": {
   "display_name": "Python 3 (ipykernel)",
   "language": "python",
   "name": "python3"
  },
  "language_info": {
   "codemirror_mode": {
    "name": "ipython",
    "version": 3
   },
   "file_extension": ".py",
   "mimetype": "text/x-python",
   "name": "python",
   "nbconvert_exporter": "python",
   "pygments_lexer": "ipython3",
   "version": "3.9.13"
  }
 },
 "nbformat": 4,
 "nbformat_minor": 5
}
