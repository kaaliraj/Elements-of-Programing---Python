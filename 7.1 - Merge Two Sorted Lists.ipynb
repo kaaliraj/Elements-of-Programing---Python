{
 "cells": [
  {
   "cell_type": "code",
   "execution_count": 1,
   "id": "677e0c5b",
   "metadata": {},
   "outputs": [],
   "source": [
    "# Write a program that takes two lists , assumed to be sorted , and returns their merge . \n",
    "# The only field your program can change in a node is its next field "
   ]
  },
  {
   "cell_type": "code",
   "execution_count": null,
   "id": "4980a9e9",
   "metadata": {},
   "outputs": [],
   "source": [
    "def merge_two_sorted_lists(L1,L2):\n",
    "    # Creates a Placeholder for the result.\n",
    "    dummy_head = tail = ListNode()\n",
    "    \n",
    "    while L1 and L2 :\n",
    "        if L1.data < L2.data:\n",
    "            tail.next , L1 = L1 , L1.next\n",
    "        else:\n",
    "            tail.next,L2 = L2,L2.next\n",
    "        tail = tail.next\n",
    "        \n",
    "    #Appends the remaining nodes of l1 or L2 \n",
    "    tail.next = L1 or L2\n",
    "    return dummy_head.next"
   ]
  }
 ],
 "metadata": {
  "kernelspec": {
   "display_name": "Python 3 (ipykernel)",
   "language": "python",
   "name": "python3"
  },
  "language_info": {
   "codemirror_mode": {
    "name": "ipython",
    "version": 3
   },
   "file_extension": ".py",
   "mimetype": "text/x-python",
   "name": "python",
   "nbconvert_exporter": "python",
   "pygments_lexer": "ipython3",
   "version": "3.9.13"
  }
 },
 "nbformat": 4,
 "nbformat_minor": 5
}
