{
 "cells": [
  {
   "cell_type": "code",
   "execution_count": null,
   "id": "2400bfde",
   "metadata": {},
   "outputs": [],
   "source": [
    "# check weather a string is palindromic or not "
   ]
  },
  {
   "cell_type": "code",
   "execution_count": 23,
   "id": "bcb13953",
   "metadata": {},
   "outputs": [],
   "source": [
    "def is_palindromic(s):\n",
    "    # Note that s[~i] for i in [0,len(s) -1] is s[-(i+1)]\n",
    "    \n",
    "    return all(s[i] == s[~i] for i in range(len(s)//2))\n",
    "    #for i in range(len(s)//2):\n",
    "    #   print(~i)\n"
   ]
  },
  {
   "cell_type": "code",
   "execution_count": 24,
   "id": "6dbda7d6",
   "metadata": {},
   "outputs": [
    {
     "data": {
      "text/plain": [
       "True"
      ]
     },
     "execution_count": 24,
     "metadata": {},
     "output_type": "execute_result"
    }
   ],
   "source": [
    "s = \"malayalam\"\n",
    "is_palindromic(s)"
   ]
  },
  {
   "cell_type": "code",
   "execution_count": 1,
   "id": "7e47b58d",
   "metadata": {},
   "outputs": [
    {
     "data": {
      "text/plain": [
       "'i'"
      ]
     },
     "execution_count": 1,
     "metadata": {},
     "output_type": "execute_result"
    }
   ],
   "source": [
    "s = \"string\"\n",
    "s[3]"
   ]
  },
  {
   "cell_type": "code",
   "execution_count": 2,
   "id": "cd9d45ac",
   "metadata": {},
   "outputs": [
    {
     "data": {
      "text/plain": [
       "6"
      ]
     },
     "execution_count": 2,
     "metadata": {},
     "output_type": "execute_result"
    }
   ],
   "source": [
    "len(s)"
   ]
  },
  {
   "cell_type": "code",
   "execution_count": 3,
   "id": "f9354f99",
   "metadata": {},
   "outputs": [
    {
     "data": {
      "text/plain": [
       "'ri'"
      ]
     },
     "execution_count": 3,
     "metadata": {},
     "output_type": "execute_result"
    }
   ],
   "source": [
    "s[2:4]"
   ]
  },
  {
   "cell_type": "code",
   "execution_count": 4,
   "id": "8d975743",
   "metadata": {},
   "outputs": [
    {
     "data": {
      "text/plain": [
       "False"
      ]
     },
     "execution_count": 4,
     "metadata": {},
     "output_type": "execute_result"
    }
   ],
   "source": [
    "t = \"ri\"\n",
    "s in t"
   ]
  },
  {
   "cell_type": "code",
   "execution_count": 5,
   "id": "1bac875a",
   "metadata": {},
   "outputs": [
    {
     "data": {
      "text/plain": [
       "True"
      ]
     },
     "execution_count": 5,
     "metadata": {},
     "output_type": "execute_result"
    }
   ],
   "source": [
    "t in s"
   ]
  },
  {
   "cell_type": "code",
   "execution_count": 10,
   "id": "2de0d80a",
   "metadata": {},
   "outputs": [
    {
     "data": {
      "text/plain": [
       "'string'"
      ]
     },
     "execution_count": 10,
     "metadata": {},
     "output_type": "execute_result"
    }
   ],
   "source": [
    "s.strip(' ')"
   ]
  },
  {
   "cell_type": "code",
   "execution_count": 9,
   "id": "da076f0d",
   "metadata": {},
   "outputs": [
    {
     "data": {
      "text/plain": [
       "True"
      ]
     },
     "execution_count": 9,
     "metadata": {},
     "output_type": "execute_result"
    }
   ],
   "source": [
    "s.startswith('s')"
   ]
  },
  {
   "cell_type": "code",
   "execution_count": 12,
   "id": "bca4c04f",
   "metadata": {},
   "outputs": [
    {
     "data": {
      "text/plain": [
       "True"
      ]
     },
     "execution_count": 12,
     "metadata": {},
     "output_type": "execute_result"
    }
   ],
   "source": [
    "s.endswith('g')"
   ]
  },
  {
   "cell_type": "code",
   "execution_count": 13,
   "id": "1a06a756",
   "metadata": {},
   "outputs": [
    {
     "data": {
      "text/plain": [
       "['Euclid', 'Axiom 5', 'Parallel Lines']"
      ]
     },
     "execution_count": 13,
     "metadata": {},
     "output_type": "execute_result"
    }
   ],
   "source": [
    "'Euclid,Axiom 5,Parallel Lines'.split(',')"
   ]
  },
  {
   "cell_type": "code",
   "execution_count": 14,
   "id": "0dedba9d",
   "metadata": {},
   "outputs": [
    {
     "data": {
      "text/plain": [
       "'010101'"
      ]
     },
     "execution_count": 14,
     "metadata": {},
     "output_type": "execute_result"
    }
   ],
   "source": [
    "3*'01'"
   ]
  },
  {
   "cell_type": "code",
   "execution_count": 17,
   "id": "8b8c961f",
   "metadata": {},
   "outputs": [
    {
     "data": {
      "text/plain": [
       "'Gauss Prince of Mathematicians 1777-1855'"
      ]
     },
     "execution_count": 17,
     "metadata": {},
     "output_type": "execute_result"
    }
   ],
   "source": [
    "' '.join(('Gauss','Prince of Mathematicians','1777-1855'))"
   ]
  },
  {
   "cell_type": "code",
   "execution_count": 19,
   "id": "a0a0e97c",
   "metadata": {},
   "outputs": [
    {
     "data": {
      "text/plain": [
       "'string'"
      ]
     },
     "execution_count": 19,
     "metadata": {},
     "output_type": "execute_result"
    }
   ],
   "source": [
    "s.lower()"
   ]
  },
  {
   "cell_type": "code",
   "execution_count": 21,
   "id": "3ff5a1e6",
   "metadata": {},
   "outputs": [
    {
     "data": {
      "text/plain": [
       "'Name: Archimedes , Rank: 3'"
      ]
     },
     "execution_count": 21,
     "metadata": {},
     "output_type": "execute_result"
    }
   ],
   "source": [
    "'Name: {name} , Rank: {rank}'.format(name='Archimedes',rank = 3)"
   ]
  },
  {
   "cell_type": "code",
   "execution_count": 22,
   "id": "a0cfd1f0",
   "metadata": {},
   "outputs": [],
   "source": []
  },
  {
   "cell_type": "code",
   "execution_count": null,
   "id": "2b7a5107",
   "metadata": {},
   "outputs": [],
   "source": []
  }
 ],
 "metadata": {
  "kernelspec": {
   "display_name": "Python 3 (ipykernel)",
   "language": "python",
   "name": "python3"
  },
  "language_info": {
   "codemirror_mode": {
    "name": "ipython",
    "version": 3
   },
   "file_extension": ".py",
   "mimetype": "text/x-python",
   "name": "python",
   "nbconvert_exporter": "python",
   "pygments_lexer": "ipython3",
   "version": "3.9.13"
  }
 },
 "nbformat": 4,
 "nbformat_minor": 5
}
