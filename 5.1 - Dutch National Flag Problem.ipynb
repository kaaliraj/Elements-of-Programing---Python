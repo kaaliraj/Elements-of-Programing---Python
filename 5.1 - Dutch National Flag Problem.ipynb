{
 "cells": [
  {
   "cell_type": "code",
   "execution_count": 1,
   "id": "98a3e9f6",
   "metadata": {},
   "outputs": [],
   "source": [
    "# Write a program that takes an array A and an index i to A and rearrange the elements such that \n",
    "# all elements less than a[i] (\"the pivot\") appear first , followed by equal to the pivot ,\n",
    "# followed by elements greater than the pivot \n",
    "\n",
    "# Hint : Think about partition step in the quick sort (Refer Leetcode 912,  5.0)\n"
   ]
  },
  {
   "cell_type": "code",
   "execution_count": 1,
   "id": "78b69182",
   "metadata": {},
   "outputs": [],
   "source": [
    "# Solving with o(n) aditional space \n",
    "# we form three lists namely elements less than the pivot\n",
    "# elements equal to the pivot and elements greater than the pivot \n",
    "# consequently write the values into A\n",
    "\n",
    "\n",
    "def quicksort (a):\n",
    "    if len(a) <=1 : return a \n",
    "    l,m,r = [],[],[]\n",
    "    length = len(a)\n",
    "    mid_idx = length // 2\n",
    "    pivot = a[mid_idx]\n",
    "    for elem in a:\n",
    "        if elem < pivot : l.append(elem)\n",
    "        if elem == pivot : m.append(elem)\n",
    "        if elem > pivot : r.append(elem)    \n",
    "            \n",
    "    return quicksort(l)+m+quicksort(r)"
   ]
  },
  {
   "cell_type": "code",
   "execution_count": 2,
   "id": "f2c33b50",
   "metadata": {},
   "outputs": [
    {
     "data": {
      "text/plain": [
       "[0, 0, 1, 1, 1, 2, 2]"
      ]
     },
     "execution_count": 2,
     "metadata": {},
     "output_type": "execute_result"
    }
   ],
   "source": [
    "a = [0,1,2,0,2,1,1]\n",
    "quicksort(a)"
   ]
  },
  {
   "cell_type": "code",
   "execution_count": 6,
   "id": "502a850a",
   "metadata": {},
   "outputs": [],
   "source": [
    "Red ,White , blue = range(3)\n",
    "def dutch_flag_partition (pivot_index,a):\n",
    "    pivot =  a[pivot_index]\n",
    "    # first pass : group elements smaller than pivot \n",
    "    for i in range(len(a)):\n",
    "        #look for a smaller element \n",
    "        for j in range (i+1,len(a)):\n",
    "            if a[j] < pivot :\n",
    "                a[i] , a[j] = a[j],a[i]\n",
    "                break \n",
    "    #second pass : group elements larger than the pivot \n",
    "    for i in reversed(range(len(a))):\n",
    "        if a[i] < pivot :\n",
    "            break \n",
    "        # look for a larger element . stop when we reach \n",
    "        # an element less than pivot \n",
    "        for j in reversed(range(i)):\n",
    "            if a[j] > pivot :\n",
    "                a[i],a[j] = a[j],a[i]\n",
    "                break \n",
    "            \n",
    "        \n",
    "    \n",
    "        "
   ]
  },
  {
   "cell_type": "code",
   "execution_count": 9,
   "id": "0f58d257",
   "metadata": {},
   "outputs": [
    {
     "data": {
      "text/plain": [
       "[0, 0, 1, 1, 2, 2, 1]"
      ]
     },
     "execution_count": 9,
     "metadata": {},
     "output_type": "execute_result"
    }
   ],
   "source": [
    "a = [0,1,2,0,2,1,1]\n",
    "pivot_index  = 3\n",
    "dutch_flag_partition (pivot_index,a)\n",
    "a"
   ]
  },
  {
   "cell_type": "code",
   "execution_count": 11,
   "id": "8a472311",
   "metadata": {},
   "outputs": [
    {
     "data": {
      "text/plain": [
       "[1, 0, 0, 1, 1, 2, 2]"
      ]
     },
     "execution_count": 11,
     "metadata": {},
     "output_type": "execute_result"
    }
   ],
   "source": [
    "a = [0,1,2,0,2,1,1]\n",
    "pivot_index  = 2\n",
    "dutch_flag_partition (pivot_index,a)\n",
    "a"
   ]
  },
  {
   "cell_type": "code",
   "execution_count": 16,
   "id": "e8026eb6",
   "metadata": {},
   "outputs": [],
   "source": [
    "Red , White , Blue = range(3)\n",
    "def dutch_flag_partition(pivot_index , a):\n",
    "    pivot = a[pivot_index]\n",
    "    #first pass : group elements smaller than pivot\n",
    "    smaller = 0\n",
    "    for i in range(len(a)):\n",
    "        if a[i] < pivot :\n",
    "            a[i],a[smaller] = a[smaller],a[i]\n",
    "            smaller += 1\n",
    "    #second pass : group elements larger than pivot \n",
    "    larger = len(a) - 1\n",
    "    for i in reversed(range(len(a))):\n",
    "        if a[i] < pivot :\n",
    "            break \n",
    "        elif a[i] > pivot:\n",
    "            a[i],a[larger] = a[larger],a[i]\n",
    "            larger -= 1"
   ]
  },
  {
   "cell_type": "code",
   "execution_count": 18,
   "id": "037ee660",
   "metadata": {},
   "outputs": [
    {
     "data": {
      "text/plain": [
       "[0, 0, 1, 2, 2, 1, 1]"
      ]
     },
     "execution_count": 18,
     "metadata": {},
     "output_type": "execute_result"
    }
   ],
   "source": [
    "a = [0,1,2,0,2,1,1]\n",
    "pivot_index  = 3\n",
    "dutch_flag_partition (pivot_index,a)\n",
    "a"
   ]
  },
  {
   "cell_type": "code",
   "execution_count": 15,
   "id": "8ec40515",
   "metadata": {},
   "outputs": [
    {
     "data": {
      "text/plain": [
       "[0, 1, 0, 1, 1, 2, 2]"
      ]
     },
     "execution_count": 15,
     "metadata": {},
     "output_type": "execute_result"
    }
   ],
   "source": [
    "a = [0,1,2,0,2,1,1]\n",
    "pivot_index  = 2\n",
    "dutch_flag_partition (pivot_index,a)\n",
    "a"
   ]
  },
  {
   "cell_type": "code",
   "execution_count": 21,
   "id": "f18e0557",
   "metadata": {},
   "outputs": [
    {
     "data": {
      "text/plain": [
       "[0, 1, 0, 1, 1, 2, 2]"
      ]
     },
     "execution_count": 21,
     "metadata": {},
     "output_type": "execute_result"
    }
   ],
   "source": [
    "a = [0,1,2,0,2,1,1]\n",
    "pivot_index  = 2\n",
    "dutch_flag_partition (pivot_index,a)\n",
    "a"
   ]
  },
  {
   "cell_type": "code",
   "execution_count": 14,
   "id": "65b78eab",
   "metadata": {},
   "outputs": [],
   "source": [
    "Red , White , Blue = range(3)\n",
    "def dutch_flag_partition(pivot_index,a):\n",
    "    pivot = a[pivot_index]\n",
    "    #keep the following invariants during partitoning :\n",
    "    #bottom group : a[: smaller]\n",
    "    #middle group : a[smaller:equal]\n",
    "    #unclassified group : a[equal:larger]\n",
    "    #top group: a[larger:]\n",
    "    smaller,equal,larger = 0,0,len(a)\n",
    "    #keep iterating as long as there is an unclassified element .,\n",
    "    while equal < larger :\n",
    "        # a[equal] is the incoming unclassified element\n",
    "        if a[equal] < pivot :\n",
    "            a[smaller],a[equal] = a[equal],a[smaller]\n",
    "        elif a[equal] == pivot:\n",
    "            equal +=1 \n",
    "        else :\n",
    "            larger -= 1\n",
    "            a[equal],a[larger]=a[larger],a[equal]"
   ]
  },
  {
   "cell_type": "code",
   "execution_count": 17,
   "id": "0cde13fb",
   "metadata": {},
   "outputs": [
    {
     "data": {
      "text/plain": [
       "[0, 0, 2, 2, 1, 1, 1]"
      ]
     },
     "execution_count": 17,
     "metadata": {},
     "output_type": "execute_result"
    }
   ],
   "source": [
    "a = [0,1,2,0,2,1,1]\n",
    "pivot_index  = 0\n",
    "dutch_flag_partition (pivot_index,a)\n",
    "a"
   ]
  },
  {
   "cell_type": "code",
   "execution_count": null,
   "id": "52b091bc",
   "metadata": {},
   "outputs": [],
   "source": []
  }
 ],
 "metadata": {
  "kernelspec": {
   "display_name": "Python 3 (ipykernel)",
   "language": "python",
   "name": "python3"
  },
  "language_info": {
   "codemirror_mode": {
    "name": "ipython",
    "version": 3
   },
   "file_extension": ".py",
   "mimetype": "text/x-python",
   "name": "python",
   "nbconvert_exporter": "python",
   "pygments_lexer": "ipython3",
   "version": "3.9.13"
  }
 },
 "nbformat": 4,
 "nbformat_minor": 5
}
