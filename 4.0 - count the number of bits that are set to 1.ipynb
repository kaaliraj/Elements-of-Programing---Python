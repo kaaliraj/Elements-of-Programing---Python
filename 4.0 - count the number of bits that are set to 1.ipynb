{
 "cells": [
  {
   "cell_type": "code",
   "execution_count": 29,
   "id": "77168080",
   "metadata": {},
   "outputs": [],
   "source": [
    "# write a program to count the number of bits that are set to 1 in a positive integer \n",
    "\n",
    "def count_bits(x):\n",
    "    \n",
    "    \"\"\"Method that takes an positive integer input and returns the number of bits that are set to 1 \n",
    "       x : a positive integer input\n",
    "       count_bits : a positive integer count\n",
    "    \"\"\"\n",
    "\n",
    "    # initilize a variable named num_bits to count\n",
    "    num_bits = 0\n",
    "    # run a while loop over the x it will execute until x is 0\n",
    "    while x:\n",
    "        # summing the output of bitwise 'and' operator\n",
    "        num_bits += x & 1 \n",
    "        print(\"num_bits : %d \" %(num_bits))\n",
    "        # right logical shift operator on x\n",
    "        x >>= 1\n",
    "        print(\"input x : %d\" % (x))\n",
    "        #return the output \n",
    "    return num_bits  "
   ]
  },
  {
   "cell_type": "code",
   "execution_count": 32,
   "id": "6eb6bab0",
   "metadata": {},
   "outputs": [
    {
     "name": "stdout",
     "output_type": "stream",
     "text": [
      "num_bits : 0 \n",
      "input x : 6\n",
      "num_bits : 0 \n",
      "input x : 3\n",
      "num_bits : 1 \n",
      "input x : 1\n",
      "num_bits : 2 \n",
      "input x : 0\n"
     ]
    },
    {
     "data": {
      "text/plain": [
       "2"
      ]
     },
     "execution_count": 32,
     "metadata": {},
     "output_type": "execute_result"
    }
   ],
   "source": [
    "count_bits(12)"
   ]
  },
  {
   "cell_type": "code",
   "execution_count": 15,
   "id": "a55bc8da",
   "metadata": {},
   "outputs": [
    {
     "data": {
      "text/plain": [
       "1"
      ]
     },
     "execution_count": 15,
     "metadata": {},
     "output_type": "execute_result"
    }
   ],
   "source": []
  },
  {
   "cell_type": "code",
   "execution_count": null,
   "id": "5884efde",
   "metadata": {},
   "outputs": [],
   "source": []
  }
 ],
 "metadata": {
  "kernelspec": {
   "display_name": "Python 3 (ipykernel)",
   "language": "python",
   "name": "python3"
  },
  "language_info": {
   "codemirror_mode": {
    "name": "ipython",
    "version": 3
   },
   "file_extension": ".py",
   "mimetype": "text/x-python",
   "name": "python",
   "nbconvert_exporter": "python",
   "pygments_lexer": "ipython3",
   "version": "3.9.13"
  }
 },
 "nbformat": 4,
 "nbformat_minor": 5
}
