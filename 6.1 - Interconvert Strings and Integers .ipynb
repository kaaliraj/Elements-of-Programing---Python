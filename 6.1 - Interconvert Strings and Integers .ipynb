{
 "cells": [
  {
   "cell_type": "code",
   "execution_count": null,
   "id": "89eb4859",
   "metadata": {},
   "outputs": [],
   "source": [
    "# Implement an integer to string conversion function and\n",
    "# string to integer conversion function \n",
    "# Build the result one digit at a time "
   ]
  },
  {
   "cell_type": "code",
   "execution_count": 22,
   "id": "c0c9da77",
   "metadata": {},
   "outputs": [],
   "source": [
    "# to make use of reduce function\n",
    "import functools\n",
    "import string"
   ]
  },
  {
   "cell_type": "code",
   "execution_count": 23,
   "id": "d5cbd970",
   "metadata": {},
   "outputs": [],
   "source": [
    "def int_to_string(x):\n",
    "    is_negative =  False \n",
    "    if x < 0 :\n",
    "        x,is_negative = -x , True\n",
    "        \n",
    "    s = []\n",
    "    while True:\n",
    "        s.append(chr(ord('0') + x%10))\n",
    "        print(s)\n",
    "        x //= 10\n",
    "        if x == 0:\n",
    "            break \n",
    "        \n",
    "    #Adds the negative sign back if is_negative \n",
    "    return ('-' if is_negative else '') + ''.join(reversed(s))\n",
    "\n",
    "def string_to_int(s):\n",
    "    return functools.reduce (\n",
    "        lambda running_sum , c : running_sum * 10 + string.digits.index(c),\n",
    "        s[s[0] ==  '-':],0) * (-1 if s[0] == '-' else 1)\n"
   ]
  },
  {
   "cell_type": "code",
   "execution_count": 13,
   "id": "51ada92c",
   "metadata": {},
   "outputs": [
    {
     "name": "stdout",
     "output_type": "stream",
     "text": [
      "['2']\n",
      "['2', '4']\n"
     ]
    },
    {
     "data": {
      "text/plain": [
       "'42'"
      ]
     },
     "execution_count": 13,
     "metadata": {},
     "output_type": "execute_result"
    }
   ],
   "source": [
    "int_to_string(42)"
   ]
  },
  {
   "cell_type": "code",
   "execution_count": 24,
   "id": "3b9791a5",
   "metadata": {},
   "outputs": [
    {
     "data": {
      "text/plain": [
       "42"
      ]
     },
     "execution_count": 24,
     "metadata": {},
     "output_type": "execute_result"
    }
   ],
   "source": [
    "string_to_int('42')"
   ]
  },
  {
   "cell_type": "code",
   "execution_count": 25,
   "id": "17ebd764",
   "metadata": {},
   "outputs": [
    {
     "data": {
      "text/plain": [
       "48"
      ]
     },
     "execution_count": 25,
     "metadata": {},
     "output_type": "execute_result"
    }
   ],
   "source": [
    "ord('0')"
   ]
  },
  {
   "cell_type": "code",
   "execution_count": 26,
   "id": "72c31005",
   "metadata": {},
   "outputs": [
    {
     "data": {
      "text/plain": [
       "'2'"
      ]
     },
     "execution_count": 26,
     "metadata": {},
     "output_type": "execute_result"
    }
   ],
   "source": [
    "chr(ord('0') + 42%10)"
   ]
  },
  {
   "cell_type": "code",
   "execution_count": null,
   "id": "3858844f",
   "metadata": {},
   "outputs": [],
   "source": []
  }
 ],
 "metadata": {
  "kernelspec": {
   "display_name": "Python 3 (ipykernel)",
   "language": "python",
   "name": "python3"
  },
  "language_info": {
   "codemirror_mode": {
    "name": "ipython",
    "version": 3
   },
   "file_extension": ".py",
   "mimetype": "text/x-python",
   "name": "python",
   "nbconvert_exporter": "python",
   "pygments_lexer": "ipython3",
   "version": "3.9.13"
  }
 },
 "nbformat": 4,
 "nbformat_minor": 5
}
